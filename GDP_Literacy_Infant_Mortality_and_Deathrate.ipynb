{
 "cells": [
  {
   "cell_type": "markdown",
   "id": "60543cbe-f85a-403e-8fe7-29e80427b98b",
   "metadata": {},
   "source": [
    "## GDP ($ per capita) and Literacy (%), Infant mortality (per 1000 births) and Deathrate"
   ]
  },
  {
   "cell_type": "markdown",
   "id": "a60fda64-f05c-4cd0-8b7a-cb602f905375",
   "metadata": {},
   "source": [
    "#### 1. Import numpy, pandas and matplotlib."
   ]
  },
  {
   "cell_type": "code",
   "execution_count": 1,
   "id": "1bd95560-98f7-4ab1-bdbf-1aedd55ebfb7",
   "metadata": {},
   "outputs": [],
   "source": [
    "import numpy as np\n",
    "import pandas as pd\n",
    "import matplotlib.pyplot as plt"
   ]
  },
  {
   "cell_type": "markdown",
   "id": "f2edbd80-9e99-4aa4-9114-5141566279ba",
   "metadata": {},
   "source": [
    "#### 2. Read the dataset."
   ]
  },
  {
   "cell_type": "code",
   "execution_count": 104,
   "id": "56824c65-e992-467e-b7ce-cd1e8e6ac5a2",
   "metadata": {},
   "outputs": [],
   "source": [
    "countries = pd.read_csv('data/countries_clean.csv')"
   ]
  },
  {
   "cell_type": "markdown",
   "id": "d0c05fa6-f2a5-4f62-9e04-62c33311c95e",
   "metadata": {},
   "source": [
    "#### 3. Explore the dataset."
   ]
  },
  {
   "cell_type": "code",
   "execution_count": 105,
   "id": "b7cd521e-f84c-467c-8769-38796f6d61b4",
   "metadata": {},
   "outputs": [
    {
     "name": "stdout",
     "output_type": "stream",
     "text": [
      "<class 'pandas.core.frame.DataFrame'>\n",
      "RangeIndex: 227 entries, 0 to 226\n",
      "Data columns (total 14 columns):\n",
      " #   Column                              Non-Null Count  Dtype  \n",
      "---  ------                              --------------  -----  \n",
      " 0   Unnamed: 0                          227 non-null    int64  \n",
      " 1   Country                             227 non-null    object \n",
      " 2   Region                              227 non-null    object \n",
      " 3   Population                          227 non-null    int64  \n",
      " 4   Area (sq. mi.)                      227 non-null    int64  \n",
      " 5   Pop. Density (per sq. mi.)          227 non-null    float64\n",
      " 6   Coastline (coast/area ratio)        227 non-null    float64\n",
      " 7   Net migration                       227 non-null    float64\n",
      " 8   Infant mortality (per 1000 births)  227 non-null    float64\n",
      " 9   GDP ($ per capita)                  227 non-null    float64\n",
      " 10  Literacy (%)                        227 non-null    float64\n",
      " 11  Phones (per 1000)                   227 non-null    float64\n",
      " 12  Birthrate                           227 non-null    float64\n",
      " 13  Deathrate                           227 non-null    float64\n",
      "dtypes: float64(9), int64(3), object(2)\n",
      "memory usage: 25.0+ KB\n"
     ]
    }
   ],
   "source": [
    "countries.info()"
   ]
  },
  {
   "cell_type": "code",
   "execution_count": 106,
   "id": "01beaa38-741f-4abc-a592-32b5bf8ef211",
   "metadata": {},
   "outputs": [
    {
     "data": {
      "text/html": [
       "<div>\n",
       "<style scoped>\n",
       "    .dataframe tbody tr th:only-of-type {\n",
       "        vertical-align: middle;\n",
       "    }\n",
       "\n",
       "    .dataframe tbody tr th {\n",
       "        vertical-align: top;\n",
       "    }\n",
       "\n",
       "    .dataframe thead th {\n",
       "        text-align: right;\n",
       "    }\n",
       "</style>\n",
       "<table border=\"1\" class=\"dataframe\">\n",
       "  <thead>\n",
       "    <tr style=\"text-align: right;\">\n",
       "      <th></th>\n",
       "      <th>Unnamed: 0</th>\n",
       "      <th>Population</th>\n",
       "      <th>Area (sq. mi.)</th>\n",
       "      <th>Pop. Density (per sq. mi.)</th>\n",
       "      <th>Coastline (coast/area ratio)</th>\n",
       "      <th>Net migration</th>\n",
       "      <th>Infant mortality (per 1000 births)</th>\n",
       "      <th>GDP ($ per capita)</th>\n",
       "      <th>Literacy (%)</th>\n",
       "      <th>Phones (per 1000)</th>\n",
       "      <th>Birthrate</th>\n",
       "      <th>Deathrate</th>\n",
       "    </tr>\n",
       "  </thead>\n",
       "  <tbody>\n",
       "    <tr>\n",
       "      <th>count</th>\n",
       "      <td>227.000000</td>\n",
       "      <td>2.270000e+02</td>\n",
       "      <td>2.270000e+02</td>\n",
       "      <td>227.000000</td>\n",
       "      <td>227.000000</td>\n",
       "      <td>227.000000</td>\n",
       "      <td>227.000000</td>\n",
       "      <td>227.000000</td>\n",
       "      <td>227.000000</td>\n",
       "      <td>227.000000</td>\n",
       "      <td>227.000000</td>\n",
       "      <td>227.000000</td>\n",
       "    </tr>\n",
       "    <tr>\n",
       "      <th>mean</th>\n",
       "      <td>113.000000</td>\n",
       "      <td>2.874028e+07</td>\n",
       "      <td>5.982270e+05</td>\n",
       "      <td>379.047137</td>\n",
       "      <td>21.165330</td>\n",
       "      <td>0.037621</td>\n",
       "      <td>35.037709</td>\n",
       "      <td>9647.136564</td>\n",
       "      <td>76.269604</td>\n",
       "      <td>231.901762</td>\n",
       "      <td>21.822467</td>\n",
       "      <td>9.078502</td>\n",
       "    </tr>\n",
       "    <tr>\n",
       "      <th>std</th>\n",
       "      <td>65.673435</td>\n",
       "      <td>1.178913e+08</td>\n",
       "      <td>1.790282e+06</td>\n",
       "      <td>1660.185825</td>\n",
       "      <td>72.286863</td>\n",
       "      <td>4.856712</td>\n",
       "      <td>35.388330</td>\n",
       "      <td>10047.485847</td>\n",
       "      <td>29.346066</td>\n",
       "      <td>228.099042</td>\n",
       "      <td>11.387139</td>\n",
       "      <td>5.093580</td>\n",
       "    </tr>\n",
       "    <tr>\n",
       "      <th>min</th>\n",
       "      <td>0.000000</td>\n",
       "      <td>7.026000e+03</td>\n",
       "      <td>2.000000e+00</td>\n",
       "      <td>0.000000</td>\n",
       "      <td>0.000000</td>\n",
       "      <td>-20.990000</td>\n",
       "      <td>0.000000</td>\n",
       "      <td>0.000000</td>\n",
       "      <td>0.000000</td>\n",
       "      <td>0.000000</td>\n",
       "      <td>0.000000</td>\n",
       "      <td>0.000000</td>\n",
       "    </tr>\n",
       "    <tr>\n",
       "      <th>25%</th>\n",
       "      <td>56.500000</td>\n",
       "      <td>4.376240e+05</td>\n",
       "      <td>4.647500e+03</td>\n",
       "      <td>29.150000</td>\n",
       "      <td>0.100000</td>\n",
       "      <td>-0.905000</td>\n",
       "      <td>7.825000</td>\n",
       "      <td>1900.000000</td>\n",
       "      <td>62.950000</td>\n",
       "      <td>33.050000</td>\n",
       "      <td>12.350000</td>\n",
       "      <td>5.755000</td>\n",
       "    </tr>\n",
       "    <tr>\n",
       "      <th>50%</th>\n",
       "      <td>113.000000</td>\n",
       "      <td>4.786994e+06</td>\n",
       "      <td>8.660000e+04</td>\n",
       "      <td>78.800000</td>\n",
       "      <td>0.730000</td>\n",
       "      <td>0.000000</td>\n",
       "      <td>20.910000</td>\n",
       "      <td>5500.000000</td>\n",
       "      <td>90.300000</td>\n",
       "      <td>164.100000</td>\n",
       "      <td>18.710000</td>\n",
       "      <td>7.820000</td>\n",
       "    </tr>\n",
       "    <tr>\n",
       "      <th>75%</th>\n",
       "      <td>169.500000</td>\n",
       "      <td>1.749777e+07</td>\n",
       "      <td>4.418110e+05</td>\n",
       "      <td>190.150000</td>\n",
       "      <td>10.345000</td>\n",
       "      <td>0.980000</td>\n",
       "      <td>55.335000</td>\n",
       "      <td>15700.000000</td>\n",
       "      <td>97.800000</td>\n",
       "      <td>382.900000</td>\n",
       "      <td>29.770000</td>\n",
       "      <td>10.580000</td>\n",
       "    </tr>\n",
       "    <tr>\n",
       "      <th>max</th>\n",
       "      <td>226.000000</td>\n",
       "      <td>1.313974e+09</td>\n",
       "      <td>1.707520e+07</td>\n",
       "      <td>16271.500000</td>\n",
       "      <td>870.660000</td>\n",
       "      <td>23.060000</td>\n",
       "      <td>191.190000</td>\n",
       "      <td>55100.000000</td>\n",
       "      <td>100.000000</td>\n",
       "      <td>1035.600000</td>\n",
       "      <td>50.730000</td>\n",
       "      <td>29.740000</td>\n",
       "    </tr>\n",
       "  </tbody>\n",
       "</table>\n",
       "</div>"
      ],
      "text/plain": [
       "       Unnamed: 0    Population  Area (sq. mi.)  Pop. Density (per sq. mi.)  \\\n",
       "count  227.000000  2.270000e+02    2.270000e+02                  227.000000   \n",
       "mean   113.000000  2.874028e+07    5.982270e+05                  379.047137   \n",
       "std     65.673435  1.178913e+08    1.790282e+06                 1660.185825   \n",
       "min      0.000000  7.026000e+03    2.000000e+00                    0.000000   \n",
       "25%     56.500000  4.376240e+05    4.647500e+03                   29.150000   \n",
       "50%    113.000000  4.786994e+06    8.660000e+04                   78.800000   \n",
       "75%    169.500000  1.749777e+07    4.418110e+05                  190.150000   \n",
       "max    226.000000  1.313974e+09    1.707520e+07                16271.500000   \n",
       "\n",
       "       Coastline (coast/area ratio)  Net migration  \\\n",
       "count                    227.000000     227.000000   \n",
       "mean                      21.165330       0.037621   \n",
       "std                       72.286863       4.856712   \n",
       "min                        0.000000     -20.990000   \n",
       "25%                        0.100000      -0.905000   \n",
       "50%                        0.730000       0.000000   \n",
       "75%                       10.345000       0.980000   \n",
       "max                      870.660000      23.060000   \n",
       "\n",
       "       Infant mortality (per 1000 births)  GDP ($ per capita)  Literacy (%)  \\\n",
       "count                          227.000000          227.000000    227.000000   \n",
       "mean                            35.037709         9647.136564     76.269604   \n",
       "std                             35.388330        10047.485847     29.346066   \n",
       "min                              0.000000            0.000000      0.000000   \n",
       "25%                              7.825000         1900.000000     62.950000   \n",
       "50%                             20.910000         5500.000000     90.300000   \n",
       "75%                             55.335000        15700.000000     97.800000   \n",
       "max                            191.190000        55100.000000    100.000000   \n",
       "\n",
       "       Phones (per 1000)   Birthrate   Deathrate  \n",
       "count         227.000000  227.000000  227.000000  \n",
       "mean          231.901762   21.822467    9.078502  \n",
       "std           228.099042   11.387139    5.093580  \n",
       "min             0.000000    0.000000    0.000000  \n",
       "25%            33.050000   12.350000    5.755000  \n",
       "50%           164.100000   18.710000    7.820000  \n",
       "75%           382.900000   29.770000   10.580000  \n",
       "max          1035.600000   50.730000   29.740000  "
      ]
     },
     "execution_count": 106,
     "metadata": {},
     "output_type": "execute_result"
    }
   ],
   "source": [
    "countries.describe()"
   ]
  },
  {
   "cell_type": "markdown",
   "id": "d4da5ed0-b42d-43f8-ab7b-99aaae5dcd40",
   "metadata": {},
   "source": [
    "#### 4. Filter and organize the data."
   ]
  },
  {
   "cell_type": "code",
   "execution_count": 127,
   "id": "4a9d6f4c-f0e5-4eac-8260-de3483ca4e3f",
   "metadata": {},
   "outputs": [
    {
     "name": "stdout",
     "output_type": "stream",
     "text": [
      "<class 'pandas.core.frame.DataFrame'>\n",
      "Index: 131 entries, 0.0 to 55100.0\n",
      "Data columns (total 1 columns):\n",
      " #   Column        Non-Null Count  Dtype  \n",
      "---  ------        --------------  -----  \n",
      " 0   Literacy (%)  131 non-null    float64\n",
      "dtypes: float64(1)\n",
      "memory usage: 2.0 KB\n"
     ]
    }
   ],
   "source": [
    "# Create a pivot table and filter the data to get a first glance at GDP ($ per capita) and Literacy (%)\n",
    "\n",
    "countries_pivot = pd.pivot_table(countries, index='GDP ($ per capita)', values='Literacy (%)', aggfunc='mean')\n",
    "countries_pivot.info()"
   ]
  },
  {
   "cell_type": "markdown",
   "id": "ad5642ce-3aef-44a3-bf2a-7e21b8e5b9fd",
   "metadata": {},
   "source": [
    "#### 5. You can also create a pivot table and filter the data that way. however, it is good to reset index after creating the pivot table."
   ]
  },
  {
   "cell_type": "code",
   "execution_count": 141,
   "id": "4f4afc42-4438-4402-a935-4a2ef18c97eb",
   "metadata": {},
   "outputs": [
    {
     "data": {
      "text/html": [
       "<div>\n",
       "<style scoped>\n",
       "    .dataframe tbody tr th:only-of-type {\n",
       "        vertical-align: middle;\n",
       "    }\n",
       "\n",
       "    .dataframe tbody tr th {\n",
       "        vertical-align: top;\n",
       "    }\n",
       "\n",
       "    .dataframe thead th {\n",
       "        text-align: right;\n",
       "    }\n",
       "</style>\n",
       "<table border=\"1\" class=\"dataframe\">\n",
       "  <thead>\n",
       "    <tr style=\"text-align: right;\">\n",
       "      <th></th>\n",
       "      <th>GDP ($ per capita)</th>\n",
       "      <th>Literacy (%)</th>\n",
       "    </tr>\n",
       "  </thead>\n",
       "  <tbody>\n",
       "    <tr>\n",
       "      <th>0</th>\n",
       "      <td>0.0</td>\n",
       "      <td>0.000000</td>\n",
       "    </tr>\n",
       "    <tr>\n",
       "      <th>1</th>\n",
       "      <td>500.0</td>\n",
       "      <td>42.600000</td>\n",
       "    </tr>\n",
       "    <tr>\n",
       "      <th>2</th>\n",
       "      <td>600.0</td>\n",
       "      <td>48.125000</td>\n",
       "    </tr>\n",
       "    <tr>\n",
       "      <th>3</th>\n",
       "      <td>700.0</td>\n",
       "      <td>57.183333</td>\n",
       "    </tr>\n",
       "    <tr>\n",
       "      <th>4</th>\n",
       "      <td>800.0</td>\n",
       "      <td>37.100000</td>\n",
       "    </tr>\n",
       "    <tr>\n",
       "      <th>...</th>\n",
       "      <td>...</td>\n",
       "      <td>...</td>\n",
       "    </tr>\n",
       "    <tr>\n",
       "      <th>126</th>\n",
       "      <td>34600.0</td>\n",
       "      <td>96.000000</td>\n",
       "    </tr>\n",
       "    <tr>\n",
       "      <th>127</th>\n",
       "      <td>35000.0</td>\n",
       "      <td>98.000000</td>\n",
       "    </tr>\n",
       "    <tr>\n",
       "      <th>128</th>\n",
       "      <td>36000.0</td>\n",
       "      <td>98.000000</td>\n",
       "    </tr>\n",
       "    <tr>\n",
       "      <th>129</th>\n",
       "      <td>37800.0</td>\n",
       "      <td>98.500000</td>\n",
       "    </tr>\n",
       "    <tr>\n",
       "      <th>130</th>\n",
       "      <td>55100.0</td>\n",
       "      <td>100.000000</td>\n",
       "    </tr>\n",
       "  </tbody>\n",
       "</table>\n",
       "<p>131 rows × 2 columns</p>\n",
       "</div>"
      ],
      "text/plain": [
       "     GDP ($ per capita)  Literacy (%)\n",
       "0                   0.0      0.000000\n",
       "1                 500.0     42.600000\n",
       "2                 600.0     48.125000\n",
       "3                 700.0     57.183333\n",
       "4                 800.0     37.100000\n",
       "..                  ...           ...\n",
       "126             34600.0     96.000000\n",
       "127             35000.0     98.000000\n",
       "128             36000.0     98.000000\n",
       "129             37800.0     98.500000\n",
       "130             55100.0    100.000000\n",
       "\n",
       "[131 rows x 2 columns]"
      ]
     },
     "execution_count": 141,
     "metadata": {},
     "output_type": "execute_result"
    }
   ],
   "source": [
    "countries_pivot = countries.pivot_table(index='GDP ($ per capita)', values='Literacy (%)', aggfunc='mean')\n",
    "countries_pivot = countries_pivot.reset_index()\n",
    "countries_pivot"
   ]
  },
  {
   "cell_type": "markdown",
   "id": "e257abb8-4f2b-4e5d-9496-13213d274f07",
   "metadata": {},
   "source": [
    "#### 6. Create a scatter plot that shows the relationship (or lack thereof) between GDP Per Capita and Litercay (%)."
   ]
  },
  {
   "cell_type": "code",
   "execution_count": 125,
   "id": "6d229b48-3bd3-4ced-95a0-454632279d83",
   "metadata": {},
   "outputs": [
    {
     "data": {
      "text/plain": [
       "Text(0.5, 1.0, 'GDP ($ per capita) and Literacy (%)')"
      ]
     },
     "execution_count": 125,
     "metadata": {},
     "output_type": "execute_result"
    },
    {
     "data": {
      "image/png": "[encoded data removed]",
      "text/plain": [
       "<Figure size 640x480 with 1 Axes>"
      ]
     },
     "metadata": {},
     "output_type": "display_data"
    }
   ],
   "source": [
    "# create the plot \n",
    "countries.plot.scatter(x='Literacy (%)', y ='GDP ($ per capita)', color='blue')#,kind='scatter')\n",
    "\n",
    "# customize your lables\n",
    "plt.xlabel('Literacy (%)')\n",
    "plt.ylabel('GDP ($ per capita)')\n",
    "plt.title('GDP ($ per capita) and Literacy (%)')"
   ]
  },
  {
   "cell_type": "markdown",
   "id": "f5aeac6e-f251-479d-805c-6c14c9c43877",
   "metadata": {},
   "source": [
    "#### 7. Create a scatter plot that shows the relationship (or lack thereof) between GDP ($ per capita) and Infant mortality (per 1000 births)."
   ]
  },
  {
   "cell_type": "code",
   "execution_count": 72,
   "id": "c3bab331-6294-4432-93c5-7f3925c90d2c",
   "metadata": {},
   "outputs": [
    {
     "data": {
      "text/plain": [
       "Text(0.5, 1.0, 'GDP ($ per capita) vs Infant Mortality')"
      ]
     },
     "execution_count": 72,
     "metadata": {},
     "output_type": "execute_result"
    },
    {
     "data": {
      "image/png": "[encoded data removed]",
      "text/plain": [
       "<Figure size 640x480 with 1 Axes>"
      ]
     },
     "metadata": {},
     "output_type": "display_data"
    }
   ],
   "source": [
    "countries.plot.scatter(x = 'Infant mortality (per 1000 births)', y ='GDP ($ per capita)',marker='o', color='blue')\n",
    "\n",
    "# customize your lables\n",
    "plt.xlabel('Infant mortality (per 1000 births)')\n",
    "plt.ylabel('GDP ($ per capita)')\n",
    "plt.title('GDP ($ per capita) vs Infant Mortality')"
   ]
  },
  {
   "cell_type": "markdown",
   "id": "7297e62c-39d4-4705-8f1e-1c7fdf0c3d11",
   "metadata": {},
   "source": [
    "#### 8. Create a scatter plot that shows the relationship (or lack thereof) between GDP ($ per capita) and Deathrate."
   ]
  },
  {
   "cell_type": "code",
   "execution_count": 101,
   "id": "f02b2f6f-9fd9-4045-9aa3-ded7843b93a3",
   "metadata": {},
   "outputs": [
    {
     "data": {
      "text/plain": [
       "Text(0.5, 1.0, 'GDP ($ per capita) vs Deathrate')"
      ]
     },
     "execution_count": 101,
     "metadata": {},
     "output_type": "execute_result"
    },
    {
     "data": {
      "image/png": "[encoded data removed]",
      "text/plain": [
       "<Figure size 640x480 with 1 Axes>"
      ]
     },
     "metadata": {},
     "output_type": "display_data"
    }
   ],
   "source": [
    "countries.plot.scatter(x='GDP ($ per capita)', y ='Deathrate',marker='o', color='blue')\n",
    "\n",
    "# customize your lables\n",
    "plt.xlabel('GDP ($ per capita)')\n",
    "plt.ylabel('Deathrate')\n",
    "plt.title('GDP ($ per capita) vs Deathrate')"
   ]
  },
  {
   "cell_type": "markdown",
   "id": "c50eacb0-d1d5-4c1d-8338-8d0e24e1e24d",
   "metadata": {},
   "source": [
    "#### 9. Create a pivot table to show GDP ($ per capita) per country."
   ]
  },
  {
   "cell_type": "code",
   "execution_count": 99,
   "id": "40a238b9-a254-4b53-b958-5913d231212e",
   "metadata": {},
   "outputs": [
    {
     "data": {
      "text/html": [
       "<div>\n",
       "<style scoped>\n",
       "    .dataframe tbody tr th:only-of-type {\n",
       "        vertical-align: middle;\n",
       "    }\n",
       "\n",
       "    .dataframe tbody tr th {\n",
       "        vertical-align: top;\n",
       "    }\n",
       "\n",
       "    .dataframe thead th {\n",
       "        text-align: right;\n",
       "    }\n",
       "</style>\n",
       "<table border=\"1\" class=\"dataframe\">\n",
       "  <thead>\n",
       "    <tr style=\"text-align: right;\">\n",
       "      <th></th>\n",
       "      <th>GDP ($ per capita)</th>\n",
       "    </tr>\n",
       "    <tr>\n",
       "      <th>Country</th>\n",
       "      <th></th>\n",
       "    </tr>\n",
       "  </thead>\n",
       "  <tbody>\n",
       "    <tr>\n",
       "      <th>Afghanistan</th>\n",
       "      <td>700.0</td>\n",
       "    </tr>\n",
       "    <tr>\n",
       "      <th>Albania</th>\n",
       "      <td>4500.0</td>\n",
       "    </tr>\n",
       "    <tr>\n",
       "      <th>Algeria</th>\n",
       "      <td>6000.0</td>\n",
       "    </tr>\n",
       "    <tr>\n",
       "      <th>American Samoa</th>\n",
       "      <td>8000.0</td>\n",
       "    </tr>\n",
       "    <tr>\n",
       "      <th>Andorra</th>\n",
       "      <td>19000.0</td>\n",
       "    </tr>\n",
       "    <tr>\n",
       "      <th>...</th>\n",
       "      <td>...</td>\n",
       "    </tr>\n",
       "    <tr>\n",
       "      <th>West Bank</th>\n",
       "      <td>800.0</td>\n",
       "    </tr>\n",
       "    <tr>\n",
       "      <th>Western Sahara</th>\n",
       "      <td>0.0</td>\n",
       "    </tr>\n",
       "    <tr>\n",
       "      <th>Yemen</th>\n",
       "      <td>800.0</td>\n",
       "    </tr>\n",
       "    <tr>\n",
       "      <th>Zambia</th>\n",
       "      <td>800.0</td>\n",
       "    </tr>\n",
       "    <tr>\n",
       "      <th>Zimbabwe</th>\n",
       "      <td>1900.0</td>\n",
       "    </tr>\n",
       "  </tbody>\n",
       "</table>\n",
       "<p>227 rows × 1 columns</p>\n",
       "</div>"
      ],
      "text/plain": [
       "                 GDP ($ per capita)\n",
       "Country                            \n",
       "Afghanistan                   700.0\n",
       "Albania                      4500.0\n",
       "Algeria                      6000.0\n",
       "American Samoa               8000.0\n",
       "Andorra                     19000.0\n",
       "...                             ...\n",
       "West Bank                     800.0\n",
       "Western Sahara                  0.0\n",
       "Yemen                         800.0\n",
       "Zambia                        800.0\n",
       "Zimbabwe                     1900.0\n",
       "\n",
       "[227 rows x 1 columns]"
      ]
     },
     "execution_count": 99,
     "metadata": {},
     "output_type": "execute_result"
    }
   ],
   "source": [
    "countries_gdp = pd.pivot_table(countries, index ='Country', values ='GDP ($ per capita)', aggfunc='mean')\n",
    "countries_gdp"
   ]
  },
  {
   "cell_type": "markdown",
   "id": "a1a6d1d7-1300-40a1-ac01-0bb4764e71f9",
   "metadata": {},
   "source": [
    "#### 10. Sort the above pivot table by GDP ($ per capita) from highest to lowest."
   ]
  },
  {
   "cell_type": "code",
   "execution_count": 102,
   "id": "814e12c1-2059-47bb-9328-381ee292dc0e",
   "metadata": {},
   "outputs": [
    {
     "data": {
      "text/html": [
       "<div>\n",
       "<style scoped>\n",
       "    .dataframe tbody tr th:only-of-type {\n",
       "        vertical-align: middle;\n",
       "    }\n",
       "\n",
       "    .dataframe tbody tr th {\n",
       "        vertical-align: top;\n",
       "    }\n",
       "\n",
       "    .dataframe thead th {\n",
       "        text-align: right;\n",
       "    }\n",
       "</style>\n",
       "<table border=\"1\" class=\"dataframe\">\n",
       "  <thead>\n",
       "    <tr style=\"text-align: right;\">\n",
       "      <th></th>\n",
       "      <th>Country</th>\n",
       "      <th>GDP ($ per capita)</th>\n",
       "    </tr>\n",
       "  </thead>\n",
       "  <tbody>\n",
       "    <tr>\n",
       "      <th>0</th>\n",
       "      <td>Luxembourg</td>\n",
       "      <td>55100.0</td>\n",
       "    </tr>\n",
       "    <tr>\n",
       "      <th>1</th>\n",
       "      <td>United States</td>\n",
       "      <td>37800.0</td>\n",
       "    </tr>\n",
       "    <tr>\n",
       "      <th>2</th>\n",
       "      <td>Norway</td>\n",
       "      <td>37800.0</td>\n",
       "    </tr>\n",
       "    <tr>\n",
       "      <th>3</th>\n",
       "      <td>Bermuda</td>\n",
       "      <td>36000.0</td>\n",
       "    </tr>\n",
       "    <tr>\n",
       "      <th>4</th>\n",
       "      <td>Cayman Islands</td>\n",
       "      <td>35000.0</td>\n",
       "    </tr>\n",
       "    <tr>\n",
       "      <th>...</th>\n",
       "      <td>...</td>\n",
       "      <td>...</td>\n",
       "    </tr>\n",
       "    <tr>\n",
       "      <th>222</th>\n",
       "      <td>Gaza Strip</td>\n",
       "      <td>600.0</td>\n",
       "    </tr>\n",
       "    <tr>\n",
       "      <th>223</th>\n",
       "      <td>East Timor</td>\n",
       "      <td>500.0</td>\n",
       "    </tr>\n",
       "    <tr>\n",
       "      <th>224</th>\n",
       "      <td>Somalia</td>\n",
       "      <td>500.0</td>\n",
       "    </tr>\n",
       "    <tr>\n",
       "      <th>225</th>\n",
       "      <td>Sierra Leone</td>\n",
       "      <td>500.0</td>\n",
       "    </tr>\n",
       "    <tr>\n",
       "      <th>226</th>\n",
       "      <td>Western Sahara</td>\n",
       "      <td>0.0</td>\n",
       "    </tr>\n",
       "  </tbody>\n",
       "</table>\n",
       "<p>227 rows × 2 columns</p>\n",
       "</div>"
      ],
      "text/plain": [
       "             Country  GDP ($ per capita)\n",
       "0        Luxembourg              55100.0\n",
       "1     United States              37800.0\n",
       "2            Norway              37800.0\n",
       "3           Bermuda              36000.0\n",
       "4    Cayman Islands              35000.0\n",
       "..               ...                 ...\n",
       "222      Gaza Strip                600.0\n",
       "223      East Timor                500.0\n",
       "224         Somalia                500.0\n",
       "225    Sierra Leone                500.0\n",
       "226  Western Sahara                  0.0\n",
       "\n",
       "[227 rows x 2 columns]"
      ]
     },
     "execution_count": 102,
     "metadata": {},
     "output_type": "execute_result"
    }
   ],
   "source": [
    "countries_gdp = countries_gdp.reset_index()\n",
    "countries_gdp_sorted = countries_gdp.sort_values(by='GDP ($ per capita)', ascending= False)\n",
    "countries_gdp_sorted = countries_gdp_sorted.reset_index(drop = True) # final product\n",
    "\n",
    "countries_gdp_sorted"
   ]
  },
  {
   "cell_type": "markdown",
   "id": "4198fd11-6538-4a8a-8257-be23a170bbfb",
   "metadata": {},
   "source": [
    "#### 11. Save the above table as an excel file."
   ]
  },
  {
   "cell_type": "code",
   "execution_count": 128,
   "id": "a1c8e8a4-3a0f-4fc1-a738-88d634e1c3eb",
   "metadata": {},
   "outputs": [],
   "source": [
    "countries_gdp_sorted.to_excel('data/countries_gdp_sorted.xlsx')"
   ]
  },
  {
   "cell_type": "markdown",
   "id": "41c051df-50ae-40e2-98bd-593b82084055",
   "metadata": {},
   "source": [
    "### Thank you!"
   ]
  },
  {
   "cell_type": "code",
   "execution_count": null,
   "id": "f76fe66d-3412-4430-b498-15aee9aabefe",
   "metadata": {},
   "outputs": [],
   "source": []
  }
 ],
 "metadata": {
  "kernelspec": {
   "display_name": "Python 3 (ipykernel)",
   "language": "python",
   "name": "python3"
  },
  "language_info": {
   "codemirror_mode": {
    "name": "ipython",
    "version": 3
   },
   "file_extension": ".py",
   "mimetype": "text/x-python",
   "name": "python",
   "nbconvert_exporter": "python",
   "pygments_lexer": "ipython3",
   "version": "3.11.4"
  }
 },
 "nbformat": 4,
 "nbformat_minor": 5
}
